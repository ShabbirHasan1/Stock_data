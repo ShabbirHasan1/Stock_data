{
 "cells": [
  {
   "cell_type": "code",
   "execution_count": 1,
   "id": "09e38d03",
   "metadata": {},
   "outputs": [],
   "source": [
    "import findspark\n",
    "findspark.init()\n",
    "from pyspark.sql.functions import *\n",
    "from pyspark.sql import SparkSession\n",
    "from pyspark.sql.types import *\n",
    "import datetime\n",
    "import time\n",
    "import numpy as np\n",
    "import pandas as pd\n",
    "import talib\n",
    "from alice_blue import *\n",
    "from alice_blue import AliceBlue\n",
    "from config import Credentials\n",
    "kafka_topic_name = \"OHLC_DATA\"\n",
    "kafka_bootstrap_servers = 'localhost:9092'"
   ]
  },
  {
   "cell_type": "code",
   "execution_count": 2,
   "id": "53946310",
   "metadata": {},
   "outputs": [],
   "source": [
    "UserName = Credentials.UserName.value\n",
    "PassWord = Credentials.PassWord.value\n",
    "SecretKey = Credentials.SecretKey.value\n",
    "AppId = Credentials.AppId.value\n",
    "f2 = 1997\n",
    "\n",
    "access_token = AliceBlue.login_and_get_access_token(\n",
    "    username=UserName, password=PassWord, twoFA=f2, api_secret=SecretKey, app_id=AppId\n",
    ")\n",
    "\n",
    "\n",
    "SCRIPT_LIST = [\"Nifty Bank\"]"
   ]
  },
  {
   "cell_type": "code",
   "execution_count": 3,
   "id": "149fbc0f",
   "metadata": {},
   "outputs": [],
   "source": [
    "alice = AliceBlue(\n",
    "    username=UserName,\n",
    "    password=PassWord,\n",
    "    access_token=access_token,\n",
    "    master_contracts_to_download=[\"NSE\"],\n",
    ")\n"
   ]
  },
  {
   "cell_type": "code",
   "execution_count": 4,
   "id": "219331ae",
   "metadata": {},
   "outputs": [],
   "source": [
    "spark = SparkSession \\\n",
    "    .builder \\\n",
    "    .appName(\"Structured Streaming \") \\\n",
    "    .master(\"local[*]\") \\\n",
    "    .getOrCreate()\n"
   ]
  },
  {
   "cell_type": "code",
   "execution_count": 5,
   "id": "e7c34084",
   "metadata": {},
   "outputs": [],
   "source": [
    "df = spark \\\n",
    "    .readStream \\\n",
    "    .format(\"kafka\") \\\n",
    "    .option(\"kafka.bootstrap.servers\", kafka_bootstrap_servers) \\\n",
    "    .option(\"subscribe\", kafka_topic_name) \\\n",
    "    .option(\"startingOffsets\", \"latest\") \\\n",
    "    .load().selectExpr(\"CAST(value AS STRING)\", \"timestamp\")\n"
   ]
  },
  {
   "cell_type": "code",
   "execution_count": 6,
   "id": "4eb17add",
   "metadata": {},
   "outputs": [],
   "source": [
    "stock_data_schema = \"timestamp STRING, open float, high Float, low Float, close Float\"\n",
    "df2 = df \\\n",
    "    .select(from_csv(col(\"value\"), stock_data_schema)\n",
    "            .alias(\"stock\"))\n",
    "df2 = df2.select(\"stock.*\")\n",
    "df2 = (df2.withColumn('timestamp',regexp_replace('timestamp',\"'\",\"\"))\n",
    "          .withColumn('timestamp',to_timestamp(col('timestamp'))))\n",
    "\n",
    "\n",
    "df2.createOrReplaceTempView('ohlc_data')\n",
    "all_data = spark.sql(\"SELECT * FROM ohlc_data\")\n",
    "stock_data_write_stream = all_data.writeStream \\\n",
    "    .trigger(processingTime='1 seconds') \\\n",
    "    .outputMode(\"append\") \\\n",
    "    .option(\"truncate\", \"false\") \\\n",
    "    .format(\"memory\") \\\n",
    "    .queryName(\"ohlcData\") \\\n",
    "    .start()\n"
   ]
  },
  {
   "cell_type": "code",
   "execution_count": 24,
   "id": "ebf16c71",
   "metadata": {},
   "outputs": [
    {
     "name": "stdout",
     "output_type": "stream",
     "text": [
      "+-------------------+--------+--------+--------+--------+\n",
      "|          timestamp|    open|    high|     low|   close|\n",
      "+-------------------+--------+--------+--------+--------+\n",
      "|2022-02-15 12:35:00|37208.95|37261.75|37202.65|37259.65|\n",
      "|2022-02-15 12:36:00| 37258.3|37267.85| 37254.2|37263.35|\n",
      "|2022-02-15 12:37:00| 37266.5| 37289.5|37264.15|37279.05|\n",
      "|2022-02-15 12:38:00|37277.85| 37280.1| 37239.5|37265.05|\n",
      "|2022-02-15 12:39:00|37270.25|37276.55| 37249.7|37266.45|\n",
      "|2022-02-15 12:40:00| 37262.8| 37269.0| 37250.1| 37262.3|\n",
      "|2022-02-15 12:41:00| 37263.6| 37269.1|37246.95| 37248.7|\n",
      "|2022-02-15 12:42:00|37248.15| 37257.6|37230.75| 37248.0|\n",
      "|2022-02-15 12:43:00|37254.05| 37254.1|37236.15|37236.15|\n",
      "+-------------------+--------+--------+--------+--------+\n",
      "\n"
     ]
    }
   ],
   "source": [
    "spark.sql('select * from ohlcData').show(200)"
   ]
  },
  {
   "cell_type": "code",
   "execution_count": 6,
   "id": "876e9541",
   "metadata": {},
   "outputs": [],
   "source": [
    "def rsi(df):\n",
    "    n=14\n",
    "    \"function to calculate RSI\"\n",
    "    delta = df[\"close\"].diff().dropna()\n",
    "    u = delta * 0\n",
    "    d = u.copy()\n",
    "    u[delta > 0] = delta[delta > 0]\n",
    "    d[delta < 0] = -delta[delta < 0]\n",
    "    u[u.index[n-1]] = np.mean( u[:n]) # first value is average of gains\n",
    "    u = u.drop(u.index[:(n-1)])\n",
    "    d[d.index[n-1]] = np.mean( d[:n]) # first value is average of losses\n",
    "    d = d.drop(d.index[:(n-1)])\n",
    "    rs = u.ewm(com=n,min_periods=n).mean()/d.ewm(com=n,min_periods=n).mean()\n",
    "    return 100 - 100 / (1+rs)"
   ]
  },
  {
   "cell_type": "code",
   "execution_count": 7,
   "id": "db84ca0a",
   "metadata": {},
   "outputs": [],
   "source": [
    "def rsi_tradingview(ohlc, period: int = 14, round_rsi: bool = True):\n",
    "    \n",
    "\n",
    "    delta = ohlc.diff()\n",
    "\n",
    "    up = delta.copy()\n",
    "    up[up < 0] = 0\n",
    "    up = pd.Series.ewm(up, alpha=1/period).mean()\n",
    "\n",
    "    down = delta.copy()\n",
    "    down[down > 0] = 0\n",
    "    down *= -1\n",
    "    down = pd.Series.ewm(down, alpha=1/period).mean()\n",
    "\n",
    "    rsi = np.where(up == 0, 0, np.where(down == 0, 100, 100 - (100 / (1 + up / down))))\n",
    "\n",
    "    return pd.DataFrame(np.round(rsi, 2)) if round_rsi else rsi"
   ]
  },
  {
   "cell_type": "code",
   "execution_count": 13,
   "id": "e4cacd03",
   "metadata": {},
   "outputs": [],
   "source": [
    "initial_time = spark.sql('select * from ohlcData').take(1)[0]['timestamp']"
   ]
  },
  {
   "cell_type": "code",
   "execution_count": 63,
   "id": "dd846248",
   "metadata": {},
   "outputs": [],
   "source": [
    " initial_time=initial_time+datetime.timedelta(hours=2)"
   ]
  },
  {
   "cell_type": "code",
   "execution_count": 23,
   "id": "592f7a0d",
   "metadata": {},
   "outputs": [
    {
     "data": {
      "text/plain": [
       "datetime.datetime(2022, 2, 15, 12, 35)"
      ]
     },
     "execution_count": 23,
     "metadata": {},
     "output_type": "execute_result"
    }
   ],
   "source": [
    "initial_time"
   ]
  },
  {
   "cell_type": "code",
   "execution_count": 26,
   "id": "8c85a9b3",
   "metadata": {},
   "outputs": [
    {
     "name": "stdout",
     "output_type": "stream",
     "text": [
      "+-------------------+--------+--------+--------+--------+\n",
      "|          timestamp|    open|    high|     low|   close|\n",
      "+-------------------+--------+--------+--------+--------+\n",
      "|2022-02-15 12:35:00|37208.95|37261.75|37202.65|37259.65|\n",
      "|2022-02-15 12:36:00| 37258.3|37267.85| 37254.2|37263.35|\n",
      "|2022-02-15 12:37:00| 37266.5| 37289.5|37264.15|37279.05|\n",
      "|2022-02-15 12:38:00|37277.85| 37280.1| 37239.5|37265.05|\n",
      "|2022-02-15 12:39:00|37270.25|37276.55| 37249.7|37266.45|\n",
      "|2022-02-15 12:40:00| 37262.8| 37269.0| 37250.1| 37262.3|\n",
      "|2022-02-15 12:41:00| 37263.6| 37269.1|37246.95| 37248.7|\n",
      "|2022-02-15 12:42:00|37248.15| 37257.6|37230.75| 37248.0|\n",
      "|2022-02-15 12:43:00|37254.05| 37254.1|37236.15|37236.15|\n",
      "|2022-02-15 12:44:00| 37238.9| 37258.4| 37238.4|37253.05|\n",
      "|2022-02-15 12:45:00| 37257.0|37268.55|37249.35|37249.35|\n",
      "|2022-02-15 12:46:00| 37249.3| 37263.6|37231.05|37231.05|\n",
      "|2022-02-15 12:47:00| 37234.2| 37279.8| 37234.2| 37279.8|\n",
      "|2022-02-15 12:48:00| 37283.7|37302.45|37278.55|37302.45|\n",
      "|2022-02-15 12:49:00|37307.45| 37330.5|37307.45|37325.25|\n",
      "+-------------------+--------+--------+--------+--------+\n",
      "\n"
     ]
    }
   ],
   "source": [
    "spark.sql(f\"select * from ohlcData where timestamp >='{initial_time}' limit 15\").show()"
   ]
  },
  {
   "cell_type": "markdown",
   "id": "ae770ce3",
   "metadata": {},
   "source": [
    "## RSi"
   ]
  },
  {
   "cell_type": "code",
   "execution_count": 20,
   "id": "8f603223",
   "metadata": {},
   "outputs": [
    {
     "ename": "KeyboardInterrupt",
     "evalue": "",
     "output_type": "error",
     "traceback": [
      "\u001b[1;31m---------------------------------------------------------------------------\u001b[0m",
      "\u001b[1;31mKeyboardInterrupt\u001b[0m                         Traceback (most recent call last)",
      "\u001b[1;32m~\\AppData\\Local\\Temp/ipykernel_7408/929742637.py\u001b[0m in \u001b[0;36m<module>\u001b[1;34m\u001b[0m\n\u001b[0;32m      1\u001b[0m \u001b[1;32mwhile\u001b[0m \u001b[1;32mTrue\u001b[0m\u001b[1;33m:\u001b[0m\u001b[1;33m\u001b[0m\u001b[1;33m\u001b[0m\u001b[0m\n\u001b[0;32m      2\u001b[0m     \u001b[0mohlc_data\u001b[0m \u001b[1;33m=\u001b[0m \u001b[0mspark\u001b[0m\u001b[1;33m.\u001b[0m\u001b[0msql\u001b[0m\u001b[1;33m(\u001b[0m\u001b[1;34mf\"select * from ohlcData where timestamp >='{initial_time}' limit 15\"\u001b[0m\u001b[1;33m)\u001b[0m\u001b[1;33m\u001b[0m\u001b[1;33m\u001b[0m\u001b[0m\n\u001b[1;32m----> 3\u001b[1;33m     \u001b[0mohlc_data_pd\u001b[0m \u001b[1;33m=\u001b[0m \u001b[0mohlc_data\u001b[0m\u001b[1;33m.\u001b[0m\u001b[0mtoPandas\u001b[0m\u001b[1;33m(\u001b[0m\u001b[1;33m)\u001b[0m\u001b[1;33m.\u001b[0m\u001b[0mset_index\u001b[0m\u001b[1;33m(\u001b[0m\u001b[1;34m'timestamp'\u001b[0m\u001b[1;33m)\u001b[0m\u001b[1;33m\u001b[0m\u001b[1;33m\u001b[0m\u001b[0m\n\u001b[0m\u001b[0;32m      4\u001b[0m     \u001b[1;32mif\u001b[0m\u001b[1;33m(\u001b[0m\u001b[0mlen\u001b[0m\u001b[1;33m(\u001b[0m\u001b[0mohlc_data_pd\u001b[0m\u001b[1;33m)\u001b[0m \u001b[1;33m<\u001b[0m \u001b[1;36m15\u001b[0m\u001b[1;33m)\u001b[0m\u001b[1;33m:\u001b[0m\u001b[1;33m\u001b[0m\u001b[1;33m\u001b[0m\u001b[0m\n\u001b[0;32m      5\u001b[0m         \u001b[1;31m#print('if continue')\u001b[0m\u001b[1;33m\u001b[0m\u001b[1;33m\u001b[0m\u001b[0m\n",
      "\u001b[1;32mC:\\spark\\python\\pyspark\\sql\\pandas\\conversion.py\u001b[0m in \u001b[0;36mtoPandas\u001b[1;34m(self)\u001b[0m\n\u001b[0;32m    139\u001b[0m \u001b[1;33m\u001b[0m\u001b[0m\n\u001b[0;32m    140\u001b[0m         \u001b[1;31m# Below is toPandas without Arrow optimization.\u001b[0m\u001b[1;33m\u001b[0m\u001b[1;33m\u001b[0m\u001b[0m\n\u001b[1;32m--> 141\u001b[1;33m         \u001b[0mpdf\u001b[0m \u001b[1;33m=\u001b[0m \u001b[0mpd\u001b[0m\u001b[1;33m.\u001b[0m\u001b[0mDataFrame\u001b[0m\u001b[1;33m.\u001b[0m\u001b[0mfrom_records\u001b[0m\u001b[1;33m(\u001b[0m\u001b[0mself\u001b[0m\u001b[1;33m.\u001b[0m\u001b[0mcollect\u001b[0m\u001b[1;33m(\u001b[0m\u001b[1;33m)\u001b[0m\u001b[1;33m,\u001b[0m \u001b[0mcolumns\u001b[0m\u001b[1;33m=\u001b[0m\u001b[0mself\u001b[0m\u001b[1;33m.\u001b[0m\u001b[0mcolumns\u001b[0m\u001b[1;33m)\u001b[0m\u001b[1;33m\u001b[0m\u001b[1;33m\u001b[0m\u001b[0m\n\u001b[0m\u001b[0;32m    142\u001b[0m         \u001b[0mcolumn_counter\u001b[0m \u001b[1;33m=\u001b[0m \u001b[0mCounter\u001b[0m\u001b[1;33m(\u001b[0m\u001b[0mself\u001b[0m\u001b[1;33m.\u001b[0m\u001b[0mcolumns\u001b[0m\u001b[1;33m)\u001b[0m\u001b[1;33m\u001b[0m\u001b[1;33m\u001b[0m\u001b[0m\n\u001b[0;32m    143\u001b[0m \u001b[1;33m\u001b[0m\u001b[0m\n",
      "\u001b[1;32mC:\\spark\\python\\pyspark\\sql\\dataframe.py\u001b[0m in \u001b[0;36mcollect\u001b[1;34m(self)\u001b[0m\n\u001b[0;32m    675\u001b[0m         \"\"\"\n\u001b[0;32m    676\u001b[0m         \u001b[1;32mwith\u001b[0m \u001b[0mSCCallSiteSync\u001b[0m\u001b[1;33m(\u001b[0m\u001b[0mself\u001b[0m\u001b[1;33m.\u001b[0m\u001b[0m_sc\u001b[0m\u001b[1;33m)\u001b[0m \u001b[1;32mas\u001b[0m \u001b[0mcss\u001b[0m\u001b[1;33m:\u001b[0m\u001b[1;33m\u001b[0m\u001b[1;33m\u001b[0m\u001b[0m\n\u001b[1;32m--> 677\u001b[1;33m             \u001b[0msock_info\u001b[0m \u001b[1;33m=\u001b[0m \u001b[0mself\u001b[0m\u001b[1;33m.\u001b[0m\u001b[0m_jdf\u001b[0m\u001b[1;33m.\u001b[0m\u001b[0mcollectToPython\u001b[0m\u001b[1;33m(\u001b[0m\u001b[1;33m)\u001b[0m\u001b[1;33m\u001b[0m\u001b[1;33m\u001b[0m\u001b[0m\n\u001b[0m\u001b[0;32m    678\u001b[0m         \u001b[1;32mreturn\u001b[0m \u001b[0mlist\u001b[0m\u001b[1;33m(\u001b[0m\u001b[0m_load_from_socket\u001b[0m\u001b[1;33m(\u001b[0m\u001b[0msock_info\u001b[0m\u001b[1;33m,\u001b[0m \u001b[0mBatchedSerializer\u001b[0m\u001b[1;33m(\u001b[0m\u001b[0mPickleSerializer\u001b[0m\u001b[1;33m(\u001b[0m\u001b[1;33m)\u001b[0m\u001b[1;33m)\u001b[0m\u001b[1;33m)\u001b[0m\u001b[1;33m)\u001b[0m\u001b[1;33m\u001b[0m\u001b[1;33m\u001b[0m\u001b[0m\n\u001b[0;32m    679\u001b[0m \u001b[1;33m\u001b[0m\u001b[0m\n",
      "\u001b[1;32mC:\\spark\\python\\lib\\py4j-0.10.9-src.zip\\py4j\\java_gateway.py\u001b[0m in \u001b[0;36m__call__\u001b[1;34m(self, *args)\u001b[0m\n\u001b[0;32m   1301\u001b[0m             \u001b[0mproto\u001b[0m\u001b[1;33m.\u001b[0m\u001b[0mEND_COMMAND_PART\u001b[0m\u001b[1;33m\u001b[0m\u001b[1;33m\u001b[0m\u001b[0m\n\u001b[0;32m   1302\u001b[0m \u001b[1;33m\u001b[0m\u001b[0m\n\u001b[1;32m-> 1303\u001b[1;33m         \u001b[0manswer\u001b[0m \u001b[1;33m=\u001b[0m \u001b[0mself\u001b[0m\u001b[1;33m.\u001b[0m\u001b[0mgateway_client\u001b[0m\u001b[1;33m.\u001b[0m\u001b[0msend_command\u001b[0m\u001b[1;33m(\u001b[0m\u001b[0mcommand\u001b[0m\u001b[1;33m)\u001b[0m\u001b[1;33m\u001b[0m\u001b[1;33m\u001b[0m\u001b[0m\n\u001b[0m\u001b[0;32m   1304\u001b[0m         return_value = get_return_value(\n\u001b[0;32m   1305\u001b[0m             answer, self.gateway_client, self.target_id, self.name)\n",
      "\u001b[1;32mC:\\spark\\python\\lib\\py4j-0.10.9-src.zip\\py4j\\java_gateway.py\u001b[0m in \u001b[0;36msend_command\u001b[1;34m(self, command, retry, binary)\u001b[0m\n\u001b[0;32m   1031\u001b[0m         \u001b[0mconnection\u001b[0m \u001b[1;33m=\u001b[0m \u001b[0mself\u001b[0m\u001b[1;33m.\u001b[0m\u001b[0m_get_connection\u001b[0m\u001b[1;33m(\u001b[0m\u001b[1;33m)\u001b[0m\u001b[1;33m\u001b[0m\u001b[1;33m\u001b[0m\u001b[0m\n\u001b[0;32m   1032\u001b[0m         \u001b[1;32mtry\u001b[0m\u001b[1;33m:\u001b[0m\u001b[1;33m\u001b[0m\u001b[1;33m\u001b[0m\u001b[0m\n\u001b[1;32m-> 1033\u001b[1;33m             \u001b[0mresponse\u001b[0m \u001b[1;33m=\u001b[0m \u001b[0mconnection\u001b[0m\u001b[1;33m.\u001b[0m\u001b[0msend_command\u001b[0m\u001b[1;33m(\u001b[0m\u001b[0mcommand\u001b[0m\u001b[1;33m)\u001b[0m\u001b[1;33m\u001b[0m\u001b[1;33m\u001b[0m\u001b[0m\n\u001b[0m\u001b[0;32m   1034\u001b[0m             \u001b[1;32mif\u001b[0m \u001b[0mbinary\u001b[0m\u001b[1;33m:\u001b[0m\u001b[1;33m\u001b[0m\u001b[1;33m\u001b[0m\u001b[0m\n\u001b[0;32m   1035\u001b[0m                 \u001b[1;32mreturn\u001b[0m \u001b[0mresponse\u001b[0m\u001b[1;33m,\u001b[0m \u001b[0mself\u001b[0m\u001b[1;33m.\u001b[0m\u001b[0m_create_connection_guard\u001b[0m\u001b[1;33m(\u001b[0m\u001b[0mconnection\u001b[0m\u001b[1;33m)\u001b[0m\u001b[1;33m\u001b[0m\u001b[1;33m\u001b[0m\u001b[0m\n",
      "\u001b[1;32mC:\\spark\\python\\lib\\py4j-0.10.9-src.zip\\py4j\\java_gateway.py\u001b[0m in \u001b[0;36msend_command\u001b[1;34m(self, command)\u001b[0m\n\u001b[0;32m   1198\u001b[0m \u001b[1;33m\u001b[0m\u001b[0m\n\u001b[0;32m   1199\u001b[0m         \u001b[1;32mtry\u001b[0m\u001b[1;33m:\u001b[0m\u001b[1;33m\u001b[0m\u001b[1;33m\u001b[0m\u001b[0m\n\u001b[1;32m-> 1200\u001b[1;33m             \u001b[0manswer\u001b[0m \u001b[1;33m=\u001b[0m \u001b[0msmart_decode\u001b[0m\u001b[1;33m(\u001b[0m\u001b[0mself\u001b[0m\u001b[1;33m.\u001b[0m\u001b[0mstream\u001b[0m\u001b[1;33m.\u001b[0m\u001b[0mreadline\u001b[0m\u001b[1;33m(\u001b[0m\u001b[1;33m)\u001b[0m\u001b[1;33m[\u001b[0m\u001b[1;33m:\u001b[0m\u001b[1;33m-\u001b[0m\u001b[1;36m1\u001b[0m\u001b[1;33m]\u001b[0m\u001b[1;33m)\u001b[0m\u001b[1;33m\u001b[0m\u001b[1;33m\u001b[0m\u001b[0m\n\u001b[0m\u001b[0;32m   1201\u001b[0m             \u001b[0mlogger\u001b[0m\u001b[1;33m.\u001b[0m\u001b[0mdebug\u001b[0m\u001b[1;33m(\u001b[0m\u001b[1;34m\"Answer received: {0}\"\u001b[0m\u001b[1;33m.\u001b[0m\u001b[0mformat\u001b[0m\u001b[1;33m(\u001b[0m\u001b[0manswer\u001b[0m\u001b[1;33m)\u001b[0m\u001b[1;33m)\u001b[0m\u001b[1;33m\u001b[0m\u001b[1;33m\u001b[0m\u001b[0m\n\u001b[0;32m   1202\u001b[0m             \u001b[1;32mif\u001b[0m \u001b[0manswer\u001b[0m\u001b[1;33m.\u001b[0m\u001b[0mstartswith\u001b[0m\u001b[1;33m(\u001b[0m\u001b[0mproto\u001b[0m\u001b[1;33m.\u001b[0m\u001b[0mRETURN_MESSAGE\u001b[0m\u001b[1;33m)\u001b[0m\u001b[1;33m:\u001b[0m\u001b[1;33m\u001b[0m\u001b[1;33m\u001b[0m\u001b[0m\n",
      "\u001b[1;32m~\\anaconda3\\lib\\socket.py\u001b[0m in \u001b[0;36mreadinto\u001b[1;34m(self, b)\u001b[0m\n\u001b[0;32m    702\u001b[0m         \u001b[1;32mwhile\u001b[0m \u001b[1;32mTrue\u001b[0m\u001b[1;33m:\u001b[0m\u001b[1;33m\u001b[0m\u001b[1;33m\u001b[0m\u001b[0m\n\u001b[0;32m    703\u001b[0m             \u001b[1;32mtry\u001b[0m\u001b[1;33m:\u001b[0m\u001b[1;33m\u001b[0m\u001b[1;33m\u001b[0m\u001b[0m\n\u001b[1;32m--> 704\u001b[1;33m                 \u001b[1;32mreturn\u001b[0m \u001b[0mself\u001b[0m\u001b[1;33m.\u001b[0m\u001b[0m_sock\u001b[0m\u001b[1;33m.\u001b[0m\u001b[0mrecv_into\u001b[0m\u001b[1;33m(\u001b[0m\u001b[0mb\u001b[0m\u001b[1;33m)\u001b[0m\u001b[1;33m\u001b[0m\u001b[1;33m\u001b[0m\u001b[0m\n\u001b[0m\u001b[0;32m    705\u001b[0m             \u001b[1;32mexcept\u001b[0m \u001b[0mtimeout\u001b[0m\u001b[1;33m:\u001b[0m\u001b[1;33m\u001b[0m\u001b[1;33m\u001b[0m\u001b[0m\n\u001b[0;32m    706\u001b[0m                 \u001b[0mself\u001b[0m\u001b[1;33m.\u001b[0m\u001b[0m_timeout_occurred\u001b[0m \u001b[1;33m=\u001b[0m \u001b[1;32mTrue\u001b[0m\u001b[1;33m\u001b[0m\u001b[1;33m\u001b[0m\u001b[0m\n",
      "\u001b[1;31mKeyboardInterrupt\u001b[0m: "
     ]
    }
   ],
   "source": [
    "while True:\n",
    "    ohlc_data = spark.sql(f\"select * from ohlcData where timestamp >='{initial_time}' limit 15\")\n",
    "    ohlc_data_pd = ohlc_data.toPandas().set_index('timestamp')\n",
    "    if(len(ohlc_data_pd) < 15):\n",
    "        #print('if continue')\n",
    "        continue\n",
    "    else:\n",
    "        print('else run')\n",
    "        print(rsi(ohlc_data_pd.iloc[:15]).tail(1).to_string())\n",
    "        initial_time+= datetime.timedelta(minutes=1)\n"
   ]
  },
  {
   "cell_type": "markdown",
   "id": "7af413cd",
   "metadata": {},
   "source": [
    "## rsi tradingview"
   ]
  },
  {
   "cell_type": "code",
   "execution_count": null,
   "id": "867a6952",
   "metadata": {},
   "outputs": [],
   "source": [
    "while True:\n",
    "    ohlc_data = spark.sql(f\"select * from ohlcData where timestamp >='{initial_time}' limit 15\")\n",
    "    ohlc_data_pd = ohlc_data.toPandas().set_index('timestamp')\n",
    "    if(len(ohlc_data_pd) < 15):\n",
    "        continue\n",
    "    else:\n",
    "        print(rsi_tradingview(ohlc_data_pd[\"close\"].iloc[:15]).tail(1).to_string())\n",
    "        initial_time+= datetime.timedelta(minutes=1)\n"
   ]
  },
  {
   "cell_type": "markdown",
   "id": "b438884a",
   "metadata": {},
   "source": [
    "## Talib"
   ]
  },
  {
   "cell_type": "code",
   "execution_count": null,
   "id": "bc4e75bc",
   "metadata": {
    "scrolled": false
   },
   "outputs": [],
   "source": [
    "while True:\n",
    "    ohlc_data = spark.sql(f\"select * from ohlcData where timestamp >='{initial_time}' limit 15\")\n",
    "    ohlc_data_pd = ohlc_data.toPandas().set_index('timestamp')\n",
    "    if(len(ohlc_data_pd) < 15):\n",
    "        continue\n",
    "    else:\n",
    "        print(talib.RSI(ohlc_data_pd[\"close\"].iloc[:15]).tail(1).to_string())\n",
    "        initial_time+= datetime.timedelta(minutes=1)\n"
   ]
  },
  {
   "cell_type": "code",
   "execution_count": 28,
   "id": "f9edeb75",
   "metadata": {},
   "outputs": [
    {
     "ename": "KeyboardInterrupt",
     "evalue": "",
     "output_type": "error",
     "traceback": [
      "\u001b[1;31m---------------------------------------------------------------------------\u001b[0m",
      "\u001b[1;31mKeyboardInterrupt\u001b[0m                         Traceback (most recent call last)",
      "\u001b[1;32m~\\AppData\\Local\\Temp/ipykernel_7408/3736974193.py\u001b[0m in \u001b[0;36m<module>\u001b[1;34m\u001b[0m\n\u001b[0;32m      2\u001b[0m \u001b[1;32mwhile\u001b[0m \u001b[1;32mTrue\u001b[0m\u001b[1;33m:\u001b[0m\u001b[1;33m\u001b[0m\u001b[1;33m\u001b[0m\u001b[0m\n\u001b[0;32m      3\u001b[0m     \u001b[0mohlc_data\u001b[0m \u001b[1;33m=\u001b[0m \u001b[0mspark\u001b[0m\u001b[1;33m.\u001b[0m\u001b[0msql\u001b[0m\u001b[1;33m(\u001b[0m\u001b[1;34mf\"select * from ohlcData where timestamp >='{initial_time}' limit 15\"\u001b[0m\u001b[1;33m)\u001b[0m\u001b[1;33m\u001b[0m\u001b[1;33m\u001b[0m\u001b[0m\n\u001b[1;32m----> 4\u001b[1;33m     \u001b[0mohlc_data_pd\u001b[0m \u001b[1;33m=\u001b[0m \u001b[0mohlc_data\u001b[0m\u001b[1;33m.\u001b[0m\u001b[0mtoPandas\u001b[0m\u001b[1;33m(\u001b[0m\u001b[1;33m)\u001b[0m\u001b[1;33m.\u001b[0m\u001b[0mset_index\u001b[0m\u001b[1;33m(\u001b[0m\u001b[1;34m'timestamp'\u001b[0m\u001b[1;33m)\u001b[0m\u001b[1;33m\u001b[0m\u001b[1;33m\u001b[0m\u001b[0m\n\u001b[0m\u001b[0;32m      5\u001b[0m     \u001b[1;32mif\u001b[0m\u001b[1;33m(\u001b[0m\u001b[0mlen\u001b[0m\u001b[1;33m(\u001b[0m\u001b[0mohlc_data_pd\u001b[0m\u001b[1;33m)\u001b[0m \u001b[1;33m<\u001b[0m \u001b[1;36m15\u001b[0m\u001b[1;33m)\u001b[0m\u001b[1;33m:\u001b[0m\u001b[1;33m\u001b[0m\u001b[1;33m\u001b[0m\u001b[0m\n\u001b[0;32m      6\u001b[0m         \u001b[1;32mcontinue\u001b[0m\u001b[1;33m\u001b[0m\u001b[1;33m\u001b[0m\u001b[0m\n",
      "\u001b[1;32mC:\\spark\\python\\pyspark\\sql\\pandas\\conversion.py\u001b[0m in \u001b[0;36mtoPandas\u001b[1;34m(self)\u001b[0m\n\u001b[0;32m    139\u001b[0m \u001b[1;33m\u001b[0m\u001b[0m\n\u001b[0;32m    140\u001b[0m         \u001b[1;31m# Below is toPandas without Arrow optimization.\u001b[0m\u001b[1;33m\u001b[0m\u001b[1;33m\u001b[0m\u001b[0m\n\u001b[1;32m--> 141\u001b[1;33m         \u001b[0mpdf\u001b[0m \u001b[1;33m=\u001b[0m \u001b[0mpd\u001b[0m\u001b[1;33m.\u001b[0m\u001b[0mDataFrame\u001b[0m\u001b[1;33m.\u001b[0m\u001b[0mfrom_records\u001b[0m\u001b[1;33m(\u001b[0m\u001b[0mself\u001b[0m\u001b[1;33m.\u001b[0m\u001b[0mcollect\u001b[0m\u001b[1;33m(\u001b[0m\u001b[1;33m)\u001b[0m\u001b[1;33m,\u001b[0m \u001b[0mcolumns\u001b[0m\u001b[1;33m=\u001b[0m\u001b[0mself\u001b[0m\u001b[1;33m.\u001b[0m\u001b[0mcolumns\u001b[0m\u001b[1;33m)\u001b[0m\u001b[1;33m\u001b[0m\u001b[1;33m\u001b[0m\u001b[0m\n\u001b[0m\u001b[0;32m    142\u001b[0m         \u001b[0mcolumn_counter\u001b[0m \u001b[1;33m=\u001b[0m \u001b[0mCounter\u001b[0m\u001b[1;33m(\u001b[0m\u001b[0mself\u001b[0m\u001b[1;33m.\u001b[0m\u001b[0mcolumns\u001b[0m\u001b[1;33m)\u001b[0m\u001b[1;33m\u001b[0m\u001b[1;33m\u001b[0m\u001b[0m\n\u001b[0;32m    143\u001b[0m \u001b[1;33m\u001b[0m\u001b[0m\n",
      "\u001b[1;32mC:\\spark\\python\\pyspark\\sql\\dataframe.py\u001b[0m in \u001b[0;36mcollect\u001b[1;34m(self)\u001b[0m\n\u001b[0;32m    674\u001b[0m         \u001b[1;33m[\u001b[0m\u001b[0mRow\u001b[0m\u001b[1;33m(\u001b[0m\u001b[0mage\u001b[0m\u001b[1;33m=\u001b[0m\u001b[1;36m2\u001b[0m\u001b[1;33m,\u001b[0m \u001b[0mname\u001b[0m\u001b[1;33m=\u001b[0m\u001b[1;34m'Alice'\u001b[0m\u001b[1;33m)\u001b[0m\u001b[1;33m,\u001b[0m \u001b[0mRow\u001b[0m\u001b[1;33m(\u001b[0m\u001b[0mage\u001b[0m\u001b[1;33m=\u001b[0m\u001b[1;36m5\u001b[0m\u001b[1;33m,\u001b[0m \u001b[0mname\u001b[0m\u001b[1;33m=\u001b[0m\u001b[1;34m'Bob'\u001b[0m\u001b[1;33m)\u001b[0m\u001b[1;33m]\u001b[0m\u001b[1;33m\u001b[0m\u001b[1;33m\u001b[0m\u001b[0m\n\u001b[0;32m    675\u001b[0m         \"\"\"\n\u001b[1;32m--> 676\u001b[1;33m         \u001b[1;32mwith\u001b[0m \u001b[0mSCCallSiteSync\u001b[0m\u001b[1;33m(\u001b[0m\u001b[0mself\u001b[0m\u001b[1;33m.\u001b[0m\u001b[0m_sc\u001b[0m\u001b[1;33m)\u001b[0m \u001b[1;32mas\u001b[0m \u001b[0mcss\u001b[0m\u001b[1;33m:\u001b[0m\u001b[1;33m\u001b[0m\u001b[1;33m\u001b[0m\u001b[0m\n\u001b[0m\u001b[0;32m    677\u001b[0m             \u001b[0msock_info\u001b[0m \u001b[1;33m=\u001b[0m \u001b[0mself\u001b[0m\u001b[1;33m.\u001b[0m\u001b[0m_jdf\u001b[0m\u001b[1;33m.\u001b[0m\u001b[0mcollectToPython\u001b[0m\u001b[1;33m(\u001b[0m\u001b[1;33m)\u001b[0m\u001b[1;33m\u001b[0m\u001b[1;33m\u001b[0m\u001b[0m\n\u001b[0;32m    678\u001b[0m         \u001b[1;32mreturn\u001b[0m \u001b[0mlist\u001b[0m\u001b[1;33m(\u001b[0m\u001b[0m_load_from_socket\u001b[0m\u001b[1;33m(\u001b[0m\u001b[0msock_info\u001b[0m\u001b[1;33m,\u001b[0m \u001b[0mBatchedSerializer\u001b[0m\u001b[1;33m(\u001b[0m\u001b[0mPickleSerializer\u001b[0m\u001b[1;33m(\u001b[0m\u001b[1;33m)\u001b[0m\u001b[1;33m)\u001b[0m\u001b[1;33m)\u001b[0m\u001b[1;33m)\u001b[0m\u001b[1;33m\u001b[0m\u001b[1;33m\u001b[0m\u001b[0m\n",
      "\u001b[1;32mC:\\spark\\python\\pyspark\\traceback_utils.py\u001b[0m in \u001b[0;36m__enter__\u001b[1;34m(self)\u001b[0m\n\u001b[0;32m     70\u001b[0m     \u001b[1;32mdef\u001b[0m \u001b[0m__enter__\u001b[0m\u001b[1;33m(\u001b[0m\u001b[0mself\u001b[0m\u001b[1;33m)\u001b[0m\u001b[1;33m:\u001b[0m\u001b[1;33m\u001b[0m\u001b[1;33m\u001b[0m\u001b[0m\n\u001b[0;32m     71\u001b[0m         \u001b[1;32mif\u001b[0m \u001b[0mSCCallSiteSync\u001b[0m\u001b[1;33m.\u001b[0m\u001b[0m_spark_stack_depth\u001b[0m \u001b[1;33m==\u001b[0m \u001b[1;36m0\u001b[0m\u001b[1;33m:\u001b[0m\u001b[1;33m\u001b[0m\u001b[1;33m\u001b[0m\u001b[0m\n\u001b[1;32m---> 72\u001b[1;33m             \u001b[0mself\u001b[0m\u001b[1;33m.\u001b[0m\u001b[0m_context\u001b[0m\u001b[1;33m.\u001b[0m\u001b[0m_jsc\u001b[0m\u001b[1;33m.\u001b[0m\u001b[0msetCallSite\u001b[0m\u001b[1;33m(\u001b[0m\u001b[0mself\u001b[0m\u001b[1;33m.\u001b[0m\u001b[0m_call_site\u001b[0m\u001b[1;33m)\u001b[0m\u001b[1;33m\u001b[0m\u001b[1;33m\u001b[0m\u001b[0m\n\u001b[0m\u001b[0;32m     73\u001b[0m         \u001b[0mSCCallSiteSync\u001b[0m\u001b[1;33m.\u001b[0m\u001b[0m_spark_stack_depth\u001b[0m \u001b[1;33m+=\u001b[0m \u001b[1;36m1\u001b[0m\u001b[1;33m\u001b[0m\u001b[1;33m\u001b[0m\u001b[0m\n\u001b[0;32m     74\u001b[0m \u001b[1;33m\u001b[0m\u001b[0m\n",
      "\u001b[1;32mC:\\spark\\python\\lib\\py4j-0.10.9-src.zip\\py4j\\java_gateway.py\u001b[0m in \u001b[0;36m__call__\u001b[1;34m(self, *args)\u001b[0m\n\u001b[0;32m   1301\u001b[0m             \u001b[0mproto\u001b[0m\u001b[1;33m.\u001b[0m\u001b[0mEND_COMMAND_PART\u001b[0m\u001b[1;33m\u001b[0m\u001b[1;33m\u001b[0m\u001b[0m\n\u001b[0;32m   1302\u001b[0m \u001b[1;33m\u001b[0m\u001b[0m\n\u001b[1;32m-> 1303\u001b[1;33m         \u001b[0manswer\u001b[0m \u001b[1;33m=\u001b[0m \u001b[0mself\u001b[0m\u001b[1;33m.\u001b[0m\u001b[0mgateway_client\u001b[0m\u001b[1;33m.\u001b[0m\u001b[0msend_command\u001b[0m\u001b[1;33m(\u001b[0m\u001b[0mcommand\u001b[0m\u001b[1;33m)\u001b[0m\u001b[1;33m\u001b[0m\u001b[1;33m\u001b[0m\u001b[0m\n\u001b[0m\u001b[0;32m   1304\u001b[0m         return_value = get_return_value(\n\u001b[0;32m   1305\u001b[0m             answer, self.gateway_client, self.target_id, self.name)\n",
      "\u001b[1;32mC:\\spark\\python\\lib\\py4j-0.10.9-src.zip\\py4j\\java_gateway.py\u001b[0m in \u001b[0;36msend_command\u001b[1;34m(self, command, retry, binary)\u001b[0m\n\u001b[0;32m   1031\u001b[0m         \u001b[0mconnection\u001b[0m \u001b[1;33m=\u001b[0m \u001b[0mself\u001b[0m\u001b[1;33m.\u001b[0m\u001b[0m_get_connection\u001b[0m\u001b[1;33m(\u001b[0m\u001b[1;33m)\u001b[0m\u001b[1;33m\u001b[0m\u001b[1;33m\u001b[0m\u001b[0m\n\u001b[0;32m   1032\u001b[0m         \u001b[1;32mtry\u001b[0m\u001b[1;33m:\u001b[0m\u001b[1;33m\u001b[0m\u001b[1;33m\u001b[0m\u001b[0m\n\u001b[1;32m-> 1033\u001b[1;33m             \u001b[0mresponse\u001b[0m \u001b[1;33m=\u001b[0m \u001b[0mconnection\u001b[0m\u001b[1;33m.\u001b[0m\u001b[0msend_command\u001b[0m\u001b[1;33m(\u001b[0m\u001b[0mcommand\u001b[0m\u001b[1;33m)\u001b[0m\u001b[1;33m\u001b[0m\u001b[1;33m\u001b[0m\u001b[0m\n\u001b[0m\u001b[0;32m   1034\u001b[0m             \u001b[1;32mif\u001b[0m \u001b[0mbinary\u001b[0m\u001b[1;33m:\u001b[0m\u001b[1;33m\u001b[0m\u001b[1;33m\u001b[0m\u001b[0m\n\u001b[0;32m   1035\u001b[0m                 \u001b[1;32mreturn\u001b[0m \u001b[0mresponse\u001b[0m\u001b[1;33m,\u001b[0m \u001b[0mself\u001b[0m\u001b[1;33m.\u001b[0m\u001b[0m_create_connection_guard\u001b[0m\u001b[1;33m(\u001b[0m\u001b[0mconnection\u001b[0m\u001b[1;33m)\u001b[0m\u001b[1;33m\u001b[0m\u001b[1;33m\u001b[0m\u001b[0m\n",
      "\u001b[1;32mC:\\spark\\python\\lib\\py4j-0.10.9-src.zip\\py4j\\java_gateway.py\u001b[0m in \u001b[0;36msend_command\u001b[1;34m(self, command)\u001b[0m\n\u001b[0;32m   1191\u001b[0m             \u001b[1;31m# Write will only fail if remote is closed for large payloads or\u001b[0m\u001b[1;33m\u001b[0m\u001b[1;33m\u001b[0m\u001b[0m\n\u001b[0;32m   1192\u001b[0m             \u001b[1;31m# if it sent a RST packet (SO_LINGER)\u001b[0m\u001b[1;33m\u001b[0m\u001b[1;33m\u001b[0m\u001b[0m\n\u001b[1;32m-> 1193\u001b[1;33m             \u001b[0mself\u001b[0m\u001b[1;33m.\u001b[0m\u001b[0msocket\u001b[0m\u001b[1;33m.\u001b[0m\u001b[0msendall\u001b[0m\u001b[1;33m(\u001b[0m\u001b[0mcommand\u001b[0m\u001b[1;33m.\u001b[0m\u001b[0mencode\u001b[0m\u001b[1;33m(\u001b[0m\u001b[1;34m\"utf-8\"\u001b[0m\u001b[1;33m)\u001b[0m\u001b[1;33m)\u001b[0m\u001b[1;33m\u001b[0m\u001b[1;33m\u001b[0m\u001b[0m\n\u001b[0m\u001b[0;32m   1194\u001b[0m         \u001b[1;32mexcept\u001b[0m \u001b[0mException\u001b[0m \u001b[1;32mas\u001b[0m \u001b[0me\u001b[0m\u001b[1;33m:\u001b[0m\u001b[1;33m\u001b[0m\u001b[1;33m\u001b[0m\u001b[0m\n\u001b[0;32m   1195\u001b[0m             \u001b[0mlogger\u001b[0m\u001b[1;33m.\u001b[0m\u001b[0minfo\u001b[0m\u001b[1;33m(\u001b[0m\u001b[1;34m\"Error while sending.\"\u001b[0m\u001b[1;33m,\u001b[0m \u001b[0mexc_info\u001b[0m\u001b[1;33m=\u001b[0m\u001b[1;32mTrue\u001b[0m\u001b[1;33m)\u001b[0m\u001b[1;33m\u001b[0m\u001b[1;33m\u001b[0m\u001b[0m\n",
      "\u001b[1;31mKeyboardInterrupt\u001b[0m: "
     ]
    }
   ],
   "source": [
    "rsi2=None\n",
    "while True:\n",
    "    ohlc_data = spark.sql(f\"select * from ohlcData where timestamp >='{initial_time}' limit 15\")\n",
    "    ohlc_data_pd = ohlc_data.toPandas().set_index('timestamp')\n",
    "    if(len(ohlc_data_pd) < 15):\n",
    "        continue\n",
    "    else:\n",
    "        \n",
    "        rsi1=talib.RSI(ohlc_data_pd[\"close\"].iloc[:15]).tail(1).to_string()\n",
    "        if rsi2 and rsi1>rsi2 and rsi1>40:\n",
    "            break40=True\n",
    "            \n",
    "        if rsi2 and rsi1<rsi2 and rsi1<60:\n",
    "            break60 = True\n",
    "            \n",
    "        rsi2=talib.RSI(ohlc_data_pd[\"close\"].iloc[:15]).tail(1).to_string()\n",
    "        \n",
    "        initial_time+= datetime.timedelta(minutes=1)\n",
    "        print(break60, break40)\n",
    "\n"
   ]
  },
  {
   "cell_type": "code",
   "execution_count": null,
   "id": "1cc2c00e",
   "metadata": {},
   "outputs": [],
   "source": [
    "isAbove60 = None\n",
    "isBelow40 = None\n",
    "\n",
    "break60 = None\n",
    "break40 = None\n",
    "\n",
    "while True:\n",
    "    ohlc_data = spark.sql(f\"select * from ohlcData where timestamp >='{initial_time}' limit 15\")\n",
    "    ohlc_data_pd = ohlc_data.toPandas().set_index('timestamp')\n",
    "    if(len(ohlc_data_pd) < 15):\n",
    "        continue4\n",
    "    else:\n",
    "        rsi=talib.RSI(ohlc_data_pd[\"close\"].iloc[:15]).tail(1).to_string()\n",
    "        if rsi > 60:\n",
    "           isAbove60bove60Above60 = True\n",
    "        else:\n",
    "isAbove60        isAbove60 = False\n",
    "        if rsi < 40:\n",
    "            isBelow40 = True\n",
    "        else:\n",
    "            isBelow40 = False\n",
    "        \n",
    "        if \n",
    "        initial_time+= datetime.timedelta(minutes=1)\n"
   ]
  },
  {
   "cell_type": "code",
   "execution_count": null,
   "id": "28b8daf6",
   "metadata": {},
   "outputs": [],
   "source": [
    "break60 = False\n",
    "break40 = False\n",
    "\n",
    "if break60 == Ture:\n",
    "    placeorder\n",
    "    break60=False\n",
    "    \n",
    "if break40 == True:\n",
    "    placeorder\n",
    "    break40 = False"
   ]
  },
  {
   "cell_type": "code",
   "execution_count": null,
   "id": "faf6f858",
   "metadata": {},
   "outputs": [],
   "source": [
    "while True:\n",
    "    ohlc_data = spark.sql(f\"select * from ohlcData where timestamp >='{initial_time}' limit 15\")\n",
    "    ohlc_data_pd = ohlc_data.toPandas().set_index('timestamp')\n",
    "    if(len(ohlc_data_pd) < 15):\n",
    "        continue\n",
    "    else:\n",
    "        rsi = talib.RSI(ohlc_data_pd[\"close\"].iloc[:15]).tail(1).to_string() \n",
    "        print(talib.RSI(ohlc_data_pd[\"close\"].iloc[:15]).tail(1).to_string())\n",
    "        initial_time+= datetime.timedelta(minutes=1)\n"
   ]
  },
  {
   "cell_type": "code",
   "execution_count": 5,
   "id": "70089ecf",
   "metadata": {},
   "outputs": [
    {
     "data": {
      "text/plain": [
       "{'status': 'success',\n",
       " 'message': 'Order placed successfully',\n",
       " 'data': {'oms_order_id': '220214000179120'}}"
      ]
     },
     "execution_count": 5,
     "metadata": {},
     "output_type": "execute_result"
    }
   ],
   "source": [
    "alice.place_order(transaction_type = TransactionType.Buy,\n",
    "                     instrument = alice.get_instrument_by_symbol('NSE', 'INFY'),\n",
    "                     quantity = 1,\n",
    "                     order_type = OrderType.Market,\n",
    "                     product_type = ProductType.Intraday,\n",
    "                     price = 0.0,\n",
    "                     trigger_price = None,\n",
    "                     stop_loss = None,\n",
    "                     square_off = None,\n",
    "                     trailing_sl = None,\n",
    "                     is_amo = False)"
   ]
  },
  {
   "cell_type": "code",
   "execution_count": null,
   "id": "7e17a3e3",
   "metadata": {},
   "outputs": [],
   "source": []
  }
 ],
 "metadata": {
  "kernelspec": {
   "display_name": "Python 3 (ipykernel)",
   "language": "python",
   "name": "python3"
  },
  "language_info": {
   "codemirror_mode": {
    "name": "ipython",
    "version": 3
   },
   "file_extension": ".py",
   "mimetype": "text/x-python",
   "name": "python",
   "nbconvert_exporter": "python",
   "pygments_lexer": "ipython3",
   "version": "3.9.7"
  }
 },
 "nbformat": 4,
 "nbformat_minor": 5
}
